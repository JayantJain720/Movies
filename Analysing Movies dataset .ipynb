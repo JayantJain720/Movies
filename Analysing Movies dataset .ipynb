{
 "cells": [
  {
   "cell_type": "code",
   "execution_count": 1,
   "metadata": {},
   "outputs": [],
   "source": [
    "import pandas as pd\n",
    "import numpy as np\n",
    "import matplotlib.pyplot as plt"
   ]
  },
  {
   "cell_type": "code",
   "execution_count": 26,
   "metadata": {},
   "outputs": [
    {
     "data": {
      "text/plain": [
       "Index(['color', 'director_name', 'num_critic_for_reviews', 'duration',\n",
       "       'director_facebook_likes', 'actor_3_facebook_likes', 'actor_2_name',\n",
       "       'actor_1_facebook_likes', 'gross', 'genres', 'actor_1_name',\n",
       "       'movie_title', 'num_voted_users', 'cast_total_facebook_likes',\n",
       "       'actor_3_name', 'facenumber_in_poster', 'plot_keywords',\n",
       "       'movie_imdb_link', 'num_user_for_reviews', 'language', 'country',\n",
       "       'content_rating', 'budget', 'title_year', 'actor_2_facebook_likes',\n",
       "       'imdb_score', 'aspect_ratio', 'movie_facebook_likes'],\n",
       "      dtype='object')"
      ]
     },
     "execution_count": 26,
     "metadata": {},
     "output_type": "execute_result"
    }
   ],
   "source": [
    "movies = pd.read_csv('movie_metadata.csv')\n",
    "movies.head()\n",
    "movies.columns"
   ]
  },
  {
   "cell_type": "code",
   "execution_count": 74,
   "metadata": {},
   "outputs": [],
   "source": [
    "movies.dropna(how = 'any')\n",
    "#movies.drop(columns= 'color',inplace=True)\n",
    "movies.drop_duplicates(inplace=True)\n"
   ]
  },
  {
   "cell_type": "code",
   "execution_count": 75,
   "metadata": {
    "scrolled": true
   },
   "outputs": [
    {
     "name": "stdout",
     "output_type": "stream",
     "text": [
      "<class 'pandas.core.frame.DataFrame'>\n",
      "Int64Index: 4998 entries, 0 to 5042\n",
      "Data columns (total 27 columns):\n",
      "director_name                4895 non-null object\n",
      "num_critic_for_reviews       4949 non-null float64\n",
      "duration                     4983 non-null float64\n",
      "director_facebook_likes      4895 non-null float64\n",
      "actor_3_facebook_likes       4975 non-null float64\n",
      "actor_2_name                 4985 non-null object\n",
      "actor_1_facebook_likes       4991 non-null float64\n",
      "gross                        4124 non-null float64\n",
      "genres                       4998 non-null object\n",
      "actor_1_name                 4991 non-null object\n",
      "movie_title                  4998 non-null object\n",
      "num_voted_users              4998 non-null int64\n",
      "cast_total_facebook_likes    4998 non-null int64\n",
      "actor_3_name                 4975 non-null object\n",
      "facenumber_in_poster         4985 non-null float64\n",
      "plot_keywords                4846 non-null object\n",
      "movie_imdb_link              4998 non-null object\n",
      "num_user_for_reviews         4977 non-null float64\n",
      "language                     4986 non-null object\n",
      "country                      4993 non-null object\n",
      "content_rating               4697 non-null object\n",
      "budget                       4511 non-null float64\n",
      "title_year                   4891 non-null float64\n",
      "actor_2_facebook_likes       4985 non-null float64\n",
      "imdb_score                   4998 non-null float64\n",
      "aspect_ratio                 4671 non-null float64\n",
      "movie_facebook_likes         4998 non-null int64\n",
      "dtypes: float64(13), int64(3), object(11)\n",
      "memory usage: 1.1+ MB\n"
     ]
    },
    {
     "data": {
      "text/plain": [
       "DatetimeIndex(['1970-01-01 00:00:00.000002009',\n",
       "               '1970-01-01 00:00:00.000002007',\n",
       "               '1970-01-01 00:00:00.000002015',\n",
       "               '1970-01-01 00:00:00.000002012',\n",
       "                                         'NaT',\n",
       "               '1970-01-01 00:00:00.000002012',\n",
       "               '1970-01-01 00:00:00.000002007',\n",
       "               '1970-01-01 00:00:00.000002010',\n",
       "               '1970-01-01 00:00:00.000002015',\n",
       "               '1970-01-01 00:00:00.000002009',\n",
       "               ...\n",
       "               '1970-01-01 00:00:00.000002004',\n",
       "               '1970-01-01 00:00:00.000002005',\n",
       "               '1970-01-01 00:00:00.000001992',\n",
       "               '1970-01-01 00:00:00.000002005',\n",
       "               '1970-01-01 00:00:00.000002011',\n",
       "               '1970-01-01 00:00:00.000002013',\n",
       "                                         'NaT',\n",
       "               '1970-01-01 00:00:00.000002013',\n",
       "               '1970-01-01 00:00:00.000002012',\n",
       "               '1970-01-01 00:00:00.000002004'],\n",
       "              dtype='datetime64[ns]', name='title_year', length=4998, freq=None)"
      ]
     },
     "execution_count": 75,
     "metadata": {},
     "output_type": "execute_result"
    }
   ],
   "source": [
    "movies.info()\n",
    "pd.DatetimeIndex(movies['title_year'])"
   ]
  },
  {
   "cell_type": "code",
   "execution_count": 76,
   "metadata": {},
   "outputs": [],
   "source": [
    "#finding median budget per year\n",
    "median_budget = movies.groupby('title_year')['budget'].median()/1e6"
   ]
  },
  {
   "cell_type": "code",
   "execution_count": 80,
   "metadata": {
    "scrolled": true
   },
   "outputs": [
    {
     "data": {
      "text/plain": [
       "title_year\n",
       "2012.0    17.0\n",
       "2013.0    20.0\n",
       "2014.0    15.0\n",
       "2015.0    15.0\n",
       "2016.0    25.0\n",
       "Name: budget, dtype: float64"
      ]
     },
     "execution_count": 80,
     "metadata": {},
     "output_type": "execute_result"
    }
   ],
   "source": [
    "median_budget.tail()"
   ]
  },
  {
   "cell_type": "code",
   "execution_count": 90,
   "metadata": {
    "collapsed": true
   },
   "outputs": [
    {
     "data": {
      "text/plain": [
       "title_year\n",
       "1916.0          NaN\n",
       "1920.0          NaN\n",
       "1925.0          NaN\n",
       "1927.0          NaN\n",
       "1929.0     1.421981\n",
       "1930.0     2.134800\n",
       "1932.0     2.274800\n",
       "1933.0     2.289700\n",
       "1934.0     1.154700\n",
       "1935.0     1.200700\n",
       "1936.0     0.680700\n",
       "1937.0     0.920700\n",
       "1938.0     1.221274\n",
       "1939.0     1.716274\n",
       "1940.0     1.983874\n",
       "1941.0     1.963874\n",
       "1942.0     1.753874\n",
       "1943.0     1.914800\n",
       "1944.0     1.827000\n",
       "1945.0     1.776875\n",
       "1946.0     2.162875\n",
       "1947.0     2.432875\n",
       "1948.0     2.577475\n",
       "1949.0     2.365275\n",
       "1950.0     2.779757\n",
       "1951.0     2.602843\n",
       "1952.0     2.651003\n",
       "1953.0     2.271003\n",
       "1954.0     3.011003\n",
       "1955.0     2.497246\n",
       "            ...    \n",
       "1987.0    12.180000\n",
       "1988.0    12.280000\n",
       "1989.0    13.180000\n",
       "1990.0    15.880000\n",
       "1991.0    17.000000\n",
       "1992.0    19.400000\n",
       "1993.0    20.100000\n",
       "1994.0    22.100000\n",
       "1995.0    22.600000\n",
       "1996.0    23.800000\n",
       "1997.0    24.800000\n",
       "1998.0    26.800000\n",
       "1999.0    26.200000\n",
       "2000.0    25.400000\n",
       "2001.0    25.800000\n",
       "2002.0    23.900000\n",
       "2003.0    23.800000\n",
       "2004.0    24.400000\n",
       "2005.0    24.600000\n",
       "2006.0    23.000000\n",
       "2007.0    22.900000\n",
       "2008.0    23.000000\n",
       "2009.0    21.700000\n",
       "2010.0    20.700000\n",
       "2011.0    21.500000\n",
       "2012.0    20.900000\n",
       "2013.0    19.900000\n",
       "2014.0    19.200000\n",
       "2015.0    18.200000\n",
       "2016.0    18.400000\n",
       "Name: budget, Length: 91, dtype: float64"
      ]
     },
     "execution_count": 90,
     "metadata": {},
     "output_type": "execute_result"
    }
   ],
   "source": [
    "median_rolling = median_budget.rolling(5).mean()\n",
    "median_rolling"
   ]
  },
  {
   "cell_type": "code",
   "execution_count": 103,
   "metadata": {},
   "outputs": [],
   "source": [
    "#converting years into array for plotting\n",
    "years = median_budget.index.values\n",
    "#converting budget values into array for plotting\n",
    "med_budget = median_budget.values\n",
    "med_budget_roll = median_rolling.values\n"
   ]
  },
  {
   "cell_type": "code",
   "execution_count": null,
   "metadata": {},
   "outputs": [],
   "source": []
  },
  {
   "cell_type": "code",
   "execution_count": 180,
   "metadata": {},
   "outputs": [
    {
     "data": {
      "text/plain": [
       "<matplotlib.legend.Legend at 0x7f0fd971c6a0>"
      ]
     },
     "execution_count": 180,
     "metadata": {},
     "output_type": "execute_result"
    },
    {
     "data": {
      "image/png": "[encoded data removed]",
      "text/plain": [
       "<Figure size 720x288 with 1 Axes>"
      ]
     },
     "metadata": {},
     "output_type": "display_data"
    }
   ],
   "source": [
    "fig,ax1 = plt.subplots(nrows = 1,ncols=1,figsize = (10,4))\n",
    "ax1.plot(years,med_budget,'--',label = 'median budget')\n",
    "ax1.plot(years,median_rolling,'-m',label = 'median rolling budget')\n",
    "ax1.set_title('Median Movie Budget per year')\n",
    "ax1.set_ylabel('<--Budget in million USD -->')\n",
    "ax1.set_xlabel('years')\n",
    "#reoving spines to reduce clutter\n",
    "ax1.spines['right'].set_visible(False)\n",
    "ax1.spines['top'].set_visible(False)\n",
    "ax1.legend()\n"
   ]
  },
  {
   "cell_type": "code",
   "execution_count": null,
   "metadata": {},
   "outputs": [],
   "source": []
  },
  {
   "cell_type": "code",
   "execution_count": null,
   "metadata": {},
   "outputs": [],
   "source": []
  },
  {
   "cell_type": "code",
   "execution_count": null,
   "metadata": {},
   "outputs": [],
   "source": []
  },
  {
   "cell_type": "code",
   "execution_count": null,
   "metadata": {},
   "outputs": [],
   "source": []
  },
  {
   "cell_type": "code",
   "execution_count": null,
   "metadata": {},
   "outputs": [],
   "source": []
  },
  {
   "cell_type": "code",
   "execution_count": null,
   "metadata": {},
   "outputs": [],
   "source": []
  },
  {
   "cell_type": "code",
   "execution_count": null,
   "metadata": {},
   "outputs": [],
   "source": []
  },
  {
   "cell_type": "code",
   "execution_count": null,
   "metadata": {},
   "outputs": [],
   "source": []
  },
  {
   "cell_type": "code",
   "execution_count": null,
   "metadata": {},
   "outputs": [],
   "source": []
  },
  {
   "cell_type": "code",
   "execution_count": null,
   "metadata": {},
   "outputs": [],
   "source": []
  },
  {
   "cell_type": "code",
   "execution_count": null,
   "metadata": {},
   "outputs": [],
   "source": []
  },
  {
   "cell_type": "code",
   "execution_count": null,
   "metadata": {},
   "outputs": [],
   "source": []
  },
  {
   "cell_type": "code",
   "execution_count": null,
   "metadata": {},
   "outputs": [],
   "source": []
  },
  {
   "cell_type": "code",
   "execution_count": null,
   "metadata": {},
   "outputs": [],
   "source": []
  }
 ],
 "metadata": {
  "kernelspec": {
   "display_name": "Python 3",
   "language": "python",
   "name": "python3"
  },
  "language_info": {
   "codemirror_mode": {
    "name": "ipython",
    "version": 3
   },
   "file_extension": ".py",
   "mimetype": "text/x-python",
   "name": "python",
   "nbconvert_exporter": "python",
   "pygments_lexer": "ipython3",
   "version": "3.6.5"
  }
 },
 "nbformat": 4,
 "nbformat_minor": 2
}
